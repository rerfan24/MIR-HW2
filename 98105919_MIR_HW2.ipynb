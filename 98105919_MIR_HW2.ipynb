{
 "cells": [
  {
   "cell_type": "markdown",
   "metadata": {},
   "source": [
    "<div style='text-align:center;'>\n",
    "<h1 style='text-align:center;'>In the name of God</h1>\n",
    "<p> Modern Information Retrival - Sharif Univercity of Technology - Semester: Spring 1401 </p>\n",
    "<p style='font-weight:bold;'> Reza Erfan Arani - 98105919</p>\n",
    "<h5 style='display:inline;'>subject: </h5><span> Information about words in a critisism of a movie </span>\n",
    "</div>"
   ]
  },
  {
   "cell_type": "code",
   "execution_count": null,
   "metadata": {},
   "outputs": [],
   "source": [
    "#install following libraries\n",
    "! pip install --user -U nltk"
   ]
  }
 ],
 "metadata": {
  "interpreter": {
   "hash": "0d0bc455fb1f111feac98563baf72197a64f009712bd5d436755204a8bac743f"
  },
  "kernelspec": {
   "display_name": "Python 3.9.5 64-bit",
   "language": "python",
   "name": "python3"
  },
  "language_info": {
   "codemirror_mode": {
    "name": "ipython",
    "version": 3
   },
   "file_extension": ".py",
   "mimetype": "text/x-python",
   "name": "python",
   "nbconvert_exporter": "python",
   "pygments_lexer": "ipython3",
   "version": "3.9.5"
  },
  "orig_nbformat": 4
 },
 "nbformat": 4,
 "nbformat_minor": 2
}
