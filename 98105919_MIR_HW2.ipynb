{
 "cells": [
  {
   "cell_type": "markdown",
   "metadata": {},
   "source": [
    "<div style='text-align:center;'>\n",
    "<h1 style='text-align:center;'>In the name of God</h1>\n",
    "<p> Modern Information Retrival - Sharif Univercity of Technology - Semester: Spring 1401 </p>\n",
    "<p style='font-weight:bold;'> Reza Erfan Arani - 98105919</p>\n",
    "<h5 style='display:inline;'>subject: </h5><span> Information about words in a criticism of a movie </span>\n",
    "</div>"
   ]
  },
  {
   "cell_type": "code",
   "execution_count": null,
   "metadata": {},
   "outputs": [],
   "source": [
    "#install following libraries\n",
    "! pip install --user -U nltk\n",
    "! pip install selenium\n",
    "! pip install bs4\n",
    "! pip install requests"
   ]
  },
  {
   "cell_type": "markdown",
   "metadata": {},
   "source": [
    "<h5 style='display:inline;'>Movie Selected:</h5><span style='color:#907221'> The Shawshank Redemption (1994) </span>\n",
    "<p>In this project I am going to collect every criticism of <i>The Shawshank Redemption</i> from <a href='https://www.imdb.com/title/tt0111161/reviews?ref_=tt_urv'>IMDB User Review</a></p>"
   ]
  },
  {
   "cell_type": "markdown",
   "metadata": {},
   "source": [
    "The website has 10k+ criticism, But it has an issue for retrieving it. This webpage designed to have a <i>Load More</i> button at the end of the page. This means that only getting page's content wont be enough and we wont get all of criticisms.\n",
    "<br>\n",
    "So we have to find a way to first click this load more button as long as we get the whole page content and then retrieve the content we want.\n",
    "<br><br>\n",
    "We use <span style='font-size:larger;font-weight:bold;'>Selenium</span> Library to do that and then retrieve the data that we want. "
   ]
  },
  {
   "cell_type": "code",
   "execution_count": 7,
   "metadata": {},
   "outputs": [],
   "source": [
    "from selenium import webdriver      \n",
    "from selenium.common.exceptions import NoSuchElementException\n",
    "from selenium.webdriver.common.by import By\n",
    "from selenium.webdriver.support.ui import WebDriverWait\n",
    "from selenium.webdriver.support import expected_conditions as EC\n",
    "import time"
   ]
  },
  {
   "cell_type": "markdown",
   "metadata": {},
   "source": [
    "As you know 10k+ is a very very large amount of data, so we only check this for clicking on the 'Load More' button a few times which is changable by changing the for loop number.\n",
    "<br>\n",
    "\n",
    "<p>p.s: You can get all criticisms by uncommenting the <span style='color:#60A2A1'># while True:</span> part and comment the for loop line after that instead in the code cell below!</p>"
   ]
  },
  {
   "cell_type": "markdown",
   "metadata": {},
   "source": [
    " <span style='font-size:x-large;'>⚠</span> Please keep in mind that you need a webdriver for this program to work!<br>\n",
    " I personally use Edge webdriver! you can download it from: <a href='https://developer.microsoft.com/en-us/microsoft-edge/tools/webdriver/'>Microsoft Edge Webdriver Download</a> (it is already in the project folder if you clone it!)<br>\n",
    " If you don't have <i>Microsoft Edge</i> or don't want to use it you can easily download other webdrivers and just put it in the folder beside your code.<br><br>\n",
    " <span><span style='color:#D05221'>Note. </span>If you want to use other webdrivers you should specify it in line 5 below!</span>\n",
    " <span>You can get more information in <a href='https://www.selenium.dev/documentation/webdriver/getting_started/install_drivers/'>Selenium Webdrivers</a></span>"
   ]
  },
  {
   "cell_type": "code",
   "execution_count": 30,
   "metadata": {},
   "outputs": [
    {
     "name": "stderr",
     "output_type": "stream",
     "text": [
      "C:\\Users\\Reza\\AppData\\Local\\Temp/ipykernel_19344/1185586635.py:5: DeprecationWarning: executable_path has been deprecated, please pass in a Service object\n",
      "  driver = webdriver.Edge(\"./msedgedriver.exe\")\n",
      "C:\\Users\\Reza\\AppData\\Local\\Temp/ipykernel_19344/1185586635.py:12: DeprecationWarning: find_element_by_xpath is deprecated. Please use find_element(by=By.XPATH, value=xpath) instead\n",
      "  loadMoreButton = driver.find_element_by_xpath(\"//button[text()='Load More']\").click()\n"
     ]
    },
    {
     "name": "stdout",
     "output_type": "stream",
     "text": [
      "Complete\n"
     ]
    }
   ],
   "source": [
    "IMDB_PAGE_URL = \"https://www.imdb.com/title/tt0111161/reviews?ref_=tt_urv\"\n",
    "PATIENCE_TIME = 60\n",
    "# LOAD_MORE_BUTTON_XPATH = '//*[@id=\"load-more-trigger\"]' \n",
    "\n",
    "driver = webdriver.Edge(\"./msedgedriver.exe\")\n",
    "driver.get(IMDB_PAGE_URL)\n",
    "\n",
    "# while True:\n",
    "for _ in range(50):\n",
    "    try:\n",
    "        time.sleep(0.2)\n",
    "        loadMoreButton = driver.find_element_by_xpath(\"//button[text()='Load More']\").click()\n",
    "        time.sleep(2)\n",
    "    except Exception as e:\n",
    "        print(e)\n",
    "        break\n",
    "print(\"Complete\")\n",
    "time.sleep(2)"
   ]
  },
  {
   "cell_type": "markdown",
   "metadata": {},
   "source": [
    "Now The Datasets that we are going to collect are:\n",
    "1. <span style='color:#50D221'>Scores</span> that each criticism gave to the movie.\n",
    "2. <span style='color:#C0B221'>Date</span> that it was written.\n",
    "3. The text of <span style='color:#30B2E1'>criticism</span> itself!\n",
    "4. Number of criticisms with <span style='color:#D05221'>spoilers</span>!\n",
    "\n",
    "And then we are going to save them into Four .txt files so we don't run the whole <i>get the information from site</i> over and over again."
   ]
  },
  {
   "cell_type": "code",
   "execution_count": 41,
   "metadata": {},
   "outputs": [
    {
     "name": "stderr",
     "output_type": "stream",
     "text": [
      "C:\\Users\\Reza\\AppData\\Local\\Temp/ipykernel_19344/4007615588.py:1: DeprecationWarning: find_elements_by_xpath is deprecated. Please use find_elements(by=By.XPATH, value=xpath) instead\n",
      "  scores = driver.find_elements_by_xpath('//span[@class=\"rating-other-user-rating\"]/span[1]')\n"
     ]
    },
    {
     "name": "stdout",
     "output_type": "stream",
     "text": [
      "scores retrieved: 1193\n"
     ]
    },
    {
     "name": "stderr",
     "output_type": "stream",
     "text": [
      "C:\\Users\\Reza\\AppData\\Local\\Temp/ipykernel_19344/4007615588.py:3: DeprecationWarning: find_elements_by_xpath is deprecated. Please use find_elements(by=By.XPATH, value=xpath) instead\n",
      "  dates = driver.find_elements_by_xpath('//span[@class=\"review-date\"]')\n"
     ]
    },
    {
     "name": "stdout",
     "output_type": "stream",
     "text": [
      "dates retrieved: 1272\n"
     ]
    },
    {
     "name": "stderr",
     "output_type": "stream",
     "text": [
      "C:\\Users\\Reza\\AppData\\Local\\Temp/ipykernel_19344/4007615588.py:5: DeprecationWarning: find_elements_by_xpath is deprecated. Please use find_elements(by=By.XPATH, value=xpath) instead\n",
      "  crits = driver.find_elements_by_xpath('//div[@class=\"text show-more__control\"]')\n"
     ]
    },
    {
     "name": "stdout",
     "output_type": "stream",
     "text": [
      "Criticisms retrieved: 961\n"
     ]
    },
    {
     "name": "stderr",
     "output_type": "stream",
     "text": [
      "C:\\Users\\Reza\\AppData\\Local\\Temp/ipykernel_19344/4007615588.py:7: DeprecationWarning: find_elements_by_xpath is deprecated. Please use find_elements(by=By.XPATH, value=xpath) instead\n",
      "  spoilers = driver.find_elements_by_xpath('//span[@class=\"spoiler-warning\"]')\n"
     ]
    },
    {
     "name": "stdout",
     "output_type": "stream",
     "text": [
      "Spoilers retrieved: 222\n"
     ]
    }
   ],
   "source": [
    "scores = driver.find_elements_by_xpath('//span[@class=\"rating-other-user-rating\"]/span[1]')\n",
    "print('scores retrieved:', len(scores))\n",
    "dates = driver.find_elements_by_xpath('//span[@class=\"review-date\"]')\n",
    "print('dates retrieved:', len(dates))\n",
    "crits = driver.find_elements_by_xpath('//div[@class=\"text show-more__control\"]')\n",
    "print('Criticisms retrieved:', len(crits))\n",
    "spoilers = driver.find_elements_by_xpath('//span[@class=\"spoiler-warning\"]')\n",
    "print('Spoilers retrieved:', len(spoilers))\n",
    "f = open('scores.txt', 'a', encoding='utf-8')\n",
    "for score in scores:\n",
    "    f.write(f'{score.text}\\n')\n",
    "f.close()\n",
    "f = open('dates.txt', 'a', encoding='utf-8')\n",
    "for date in dates:\n",
    "    f.write(f'{date.text}\\n')\n",
    "f.close()\n",
    "f = open('crits.txt', 'a', encoding='utf-8')\n",
    "for crit in crits:\n",
    "    f.write(f'{crit.text}\\n')\n",
    "f.close()\n",
    "f = open('spoilers.txt', 'a', encoding='utf-8')\n",
    "for spoiler in spoilers:\n",
    "    f.write(f'{spoiler.text}\\n')\n",
    "f.close()"
   ]
  },
  {
   "cell_type": "markdown",
   "metadata": {},
   "source": [
    "<span style='font-size:x-large;'>⚠</span> Don't forget to close the driver!"
   ]
  },
  {
   "cell_type": "code",
   "execution_count": 42,
   "metadata": {},
   "outputs": [],
   "source": [
    "driver.quit()"
   ]
  }
 ],
 "metadata": {
  "interpreter": {
   "hash": "0d0bc455fb1f111feac98563baf72197a64f009712bd5d436755204a8bac743f"
  },
  "kernelspec": {
   "display_name": "Python 3.9.5 64-bit",
   "language": "python",
   "name": "python3"
  },
  "language_info": {
   "codemirror_mode": {
    "name": "ipython",
    "version": 3
   },
   "file_extension": ".py",
   "mimetype": "text/x-python",
   "name": "python",
   "nbconvert_exporter": "python",
   "pygments_lexer": "ipython3",
   "version": "3.9.5"
  },
  "orig_nbformat": 4
 },
 "nbformat": 4,
 "nbformat_minor": 2
}
